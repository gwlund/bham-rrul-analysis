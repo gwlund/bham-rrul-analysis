{
 "cells": [
  {
   "cell_type": "code",
   "execution_count": null,
   "metadata": {},
   "outputs": [],
   "source": [
    "import tarfile\n",
    "import os\n",
    "\n",
    "extracted_files = []\n",
    "extraction_dir = \"./extracted_files\"\n",
    "\n",
    "if not os.path.exists(extraction_dir):\n",
    "    os.makedirs(extraction_dir)\n",
    "\n",
    "#tar_files = [\n",
    "#    \"./data/2023-09-29-00-00-01raspberrypi-RRUL.tar.gz\",\n",
    "#    \"./data/2023-09-29-06-00-01raspberrypi-RRUL.tar.gz\",\n",
    "#    \"./data/2023-09-29-12-00-01raspberrypi-RRUL.tar.gz\"\n",
    "#]\n",
    "\n",
    "data_dir = \"./lund-pi/mainswitch\"  # Assuming this is the location of the \"data\" folder\n",
    "data_dir = \"./erik\"  # Assuming this is the location of the \"data\" folder\n",
    "\n",
    "tar_files = [os.path.join(data_dir, f) for f in os.listdir(data_dir) if f.endswith('.tar.gz')]\n",
    "\n",
    "\n",
    "for tar_file in tar_files:\n",
    "    with tarfile.open(tar_file, 'r:gz') as archive:\n",
    "        archive.extractall(extraction_dir)\n",
    "        for member in archive.getmembers():\n",
    "            if member.name.endswith('.csv'):\n",
    "                print(\"Found Data: \" + member.name)\n",
    "                extracted_files.append(member.name)\n"
   ]
  },
  {
   "cell_type": "code",
   "execution_count": null,
   "metadata": {},
   "outputs": [],
   "source": [
    "import pandas as pd\n",
    "\n",
    "df_list_with_filename = []\n",
    "\n",
    "for csv_file in extracted_files:\n",
    "    file_path = os.path.join(extraction_dir, csv_file)\n",
    "    df_temp = pd.read_csv(file_path)\n",
    "    df_temp['filename'] = csv_file\n",
    "    df_list_with_filename.append(df_temp)\n",
    "\n",
    "combined_df_with_filename = pd.concat(df_list_with_filename, ignore_index=True)"
   ]
  },
  {
   "cell_type": "code",
   "execution_count": null,
   "metadata": {},
   "outputs": [],
   "source": [
    "#combined_df_with_filename\n",
    "#combined_df_with_filename['filename'].unique()"
   ]
  },
  {
   "cell_type": "code",
   "execution_count": null,
   "metadata": {},
   "outputs": [],
   "source": [
    "import matplotlib.pyplot as plt\n",
    "\n",
    "file_names = combined_df_with_filename['filename'].unique()\n",
    "\n",
    "plt.figure(figsize=(15, 8))\n",
    "\n",
    "for file in file_names:\n",
    "    subset = combined_df_with_filename[combined_df_with_filename['filename'] == file]\n",
    "    plt.plot(subset['rrul'], subset['TCP download avg'], label=file)\n",
    "\n",
    "plt.title('TCP Download Average by Time')\n",
    "plt.xlabel('Time (s)')\n",
    "plt.ylabel('TCP Download Average')\n",
    "plt.legend()\n",
    "plt.grid(True)\n",
    "plt.tight_layout()\n",
    "plt.show()"
   ]
  },
  {
   "cell_type": "code",
   "execution_count": null,
   "metadata": {},
   "outputs": [],
   "source": [
    "import plotly.express as px\n",
    "\n",
    "# Plot TCP Upload Average using Plotly\n",
    "fig_upload = px.line(combined_df_with_filename, x='rrul', y='TCP download avg', color='filename',\n",
    "                     labels={'TCP download avg': 'TCP download avg', 'rrul': 'Time (s)'},\n",
    "                     title='TCP download avg by Time')\n",
    "\n",
    "# Display the plot\n",
    "fig_upload.show()"
   ]
  },
  {
   "cell_type": "code",
   "execution_count": null,
   "metadata": {},
   "outputs": [],
   "source": []
  },
  {
   "cell_type": "code",
   "execution_count": null,
   "metadata": {},
   "outputs": [],
   "source": [
    "\n",
    "under_30_df = combined_df_with_filename[combined_df_with_filename['TCP download avg'] < 30]\n",
    "\n",
    "# Plot TCP Upload Average using Plotly\n",
    "fig_under_30 = px.line(under_30_df, x='rrul', y='TCP download avg', color='filename',\n",
    "                     labels={'TCP download avg': 'TCP download avg', 'rrul': 'Time (s)'},\n",
    "                     title='TCP download avg by Time')\n",
    "\n",
    "# Display the plot\n",
    "fig_under_30.show()"
   ]
  },
  {
   "cell_type": "code",
   "execution_count": null,
   "metadata": {},
   "outputs": [],
   "source": []
  },
  {
   "cell_type": "code",
   "execution_count": null,
   "metadata": {},
   "outputs": [],
   "source": [
    "# Plotting a histogram of TCP download avg grouped by filename\n",
    "plt.figure(figsize=(15, 8))\n",
    "\n",
    "# Plot data for each file\n",
    "for file in file_names:\n",
    "    subset = combined_df_with_filename[combined_df_with_filename['filename'] == file]\n",
    "    plt.hist(subset['TCP download avg'], bins=50, alpha=0.5, label=file)\n",
    "\n",
    "# Add title, labels, legend, grid and layout adjustments\n",
    "plt.title('Histogram of TCP Download Average by Filename')\n",
    "plt.xlabel('TCP Download Average')\n",
    "plt.ylabel('Frequency')\n",
    "plt.legend()\n",
    "plt.grid(True)\n",
    "plt.tight_layout()\n",
    "\n",
    "# Display the histogram\n",
    "plt.show()\n"
   ]
  },
  {
   "cell_type": "code",
   "execution_count": null,
   "metadata": {},
   "outputs": [],
   "source": [
    "# Filter the data where TCP download avg is above 50\n",
    "above_50_df = combined_df_with_filename[combined_df_with_filename['TCP download avg'] > 50]\n",
    "\n",
    "# Count the number of occurrences for each filename\n",
    "above_50_counts = above_50_df['filename'].value_counts()\n",
    "\n",
    "above_50_counts\n"
   ]
  },
  {
   "cell_type": "code",
   "execution_count": null,
   "metadata": {},
   "outputs": [],
   "source": [
    "# Plot histogram using Plotly for the distributions above 50 TCP Download\n",
    "fig_above_50 = px.histogram(above_50_df, x='TCP download avg', color='filename', \n",
    "                            title='Distribution of TCP Download Average > 50 by Filename', \n",
    "                            labels={'TCP download avg': 'TCP Download Average'},\n",
    "                            nbins=50)\n",
    "\n",
    "# Display the plot\n",
    "fig_above_50.show()\n"
   ]
  },
  {
   "cell_type": "code",
   "execution_count": null,
   "metadata": {},
   "outputs": [],
   "source": [
    "# Create a histogram using Plotly for the entire dataset\n",
    "fig_all_data = px.histogram(combined_df_with_filename, x='TCP download avg', color='filename', \n",
    "                            title='Distribution of TCP Download Average by Filename', \n",
    "                            labels={'TCP download avg': 'TCP Download Average'},\n",
    "                            nbins=100)\n",
    "\n",
    "# Display the plot\n",
    "fig_all_data.show()\n",
    "\n",
    "# Save the Plotly figure as an HTML file\n",
    "#html_path_all_data = \"/mnt/data/tcp_download_avg_all_data_plotly.html\"\n",
    "#fig_all_data.write_html(html_path_all_data)\n",
    "\n",
    "#html_path_all_data\n"
   ]
  },
  {
   "cell_type": "code",
   "execution_count": null,
   "metadata": {},
   "outputs": [],
   "source": [
    "# Filter the data where TCP download avg is under 30\n",
    "under_30_df = combined_df_with_filename[combined_df_with_filename['TCP download avg'] < 30]\n",
    "\n",
    "# Create a histogram using Plotly for the filtered dataset with 50 bins\n",
    "fig_under_30 = px.histogram(under_30_df, x='TCP download avg', color='filename', \n",
    "                            title='Distribution of TCP Download Average < 30 by Filename', \n",
    "                            labels={'TCP download avg': 'TCP Download Average'},\n",
    "                            nbins=50)\n",
    "\n",
    "fig_under_30.show()\n"
   ]
  },
  {
   "cell_type": "code",
   "execution_count": null,
   "metadata": {},
   "outputs": [],
   "source": [
    "# Use matplotlib to generate a static histogram for data under 30 TCP Download Average\n",
    "plt.figure(figsize=(15, 8))\n",
    "\n",
    "# Plot data for each file in the under_30_df\n",
    "for file in file_names:\n",
    "    subset = under_30_df[under_30_df['filename'] == file]\n",
    "    plt.hist(subset['TCP download avg'], bins=50, alpha=0.5, label=file)\n",
    "\n",
    "# Add title, labels, legend, grid and layout adjustments\n",
    "plt.title('Histogram of TCP Download Average < 30 by Filename')\n",
    "plt.xlabel('TCP Download Average')\n",
    "plt.ylabel('Frequency')\n",
    "plt.legend()\n",
    "plt.grid(True)\n",
    "plt.tight_layout()\n",
    "\n",
    "# Display the histogram\n",
    "plt.show()\n"
   ]
  },
  {
   "cell_type": "code",
   "execution_count": null,
   "metadata": {},
   "outputs": [],
   "source": [
    "# Calculate the median of the 'TCP download avg' for the under_30_df dataset\n",
    "median_tcp_download_avg = under_30_df['TCP download avg'].median()\n",
    "median_tcp_download_avg"
   ]
  },
  {
   "cell_type": "code",
   "execution_count": null,
   "metadata": {},
   "outputs": [],
   "source": [
    "# Filtering the data within the range of 20-25 Mbps\n",
    "subset_20_25 = under_30_df[(under_30_df['TCP download avg'] >= 20) & (under_30_df['TCP download avg'] <= 25)]\n",
    "\n",
    "# Plotting histogram and KDE for the filtered data\n",
    "plt.figure(figsize=(15, 8))\n",
    "under_30_df['TCP download avg'].hist(bins=50, alpha=0.5, label='Histogram', density=True)\n",
    "under_30_df['TCP download avg'].plot(kind='kde', label='KDE', color='red')\n",
    "\n",
    "# Adding title, labels, legend, grid, and layout adjustments\n",
    "plt.title('Distribution of TCP Download Average (20-25 Mbps)')\n",
    "plt.xlabel('TCP Download Average')\n",
    "plt.ylabel('Density')\n",
    "plt.legend()\n",
    "plt.grid(True)\n",
    "plt.tight_layout()\n",
    "\n",
    "plt.show()\n"
   ]
  },
  {
   "cell_type": "code",
   "execution_count": null,
   "metadata": {},
   "outputs": [],
   "source": [
    "from scipy.stats import gaussian_kde\n",
    "import numpy as np\n",
    "\n",
    "# Fit KDE to the data\n",
    "kde = gaussian_kde(under_30_df['TCP download avg'])\n",
    "\n",
    "# Define a range of values within 20-25 Mbps to find the peak\n",
    "x_vals = np.linspace(0, 40, 1000)\n",
    "\n",
    "# Evaluate the KDE for the defined range\n",
    "kde_vals = kde(x_vals)\n",
    "\n",
    "# Find the value where the KDE is maximum (peak)\n",
    "peak_value = x_vals[np.argmax(kde_vals)]\n",
    "\n",
    "peak_value\n",
    "\n",
    "# Define a range of values within 20-25 Mbps to find the peak\n",
    "x_vals = np.linspace(0, 40, 1000)\n",
    "\n",
    "# Evaluate the KDE for the defined range\n",
    "kde_vals = kde(x_vals)\n",
    "\n",
    "# Find the value where the KDE is maximum (peak)\n",
    "peak_value = x_vals[np.argmax(kde_vals)]\n",
    "\n",
    "peak_value\n"
   ]
  },
  {
   "cell_type": "code",
   "execution_count": null,
   "metadata": {},
   "outputs": [],
   "source": []
  },
  {
   "cell_type": "code",
   "execution_count": null,
   "metadata": {},
   "outputs": [],
   "source": []
  }
 ],
 "metadata": {
  "kernelspec": {
   "display_name": "Python 3 (ipykernel)",
   "language": "python",
   "name": "python3"
  },
  "language_info": {
   "codemirror_mode": {
    "name": "ipython",
    "version": 3
   },
   "file_extension": ".py",
   "mimetype": "text/x-python",
   "name": "python",
   "nbconvert_exporter": "python",
   "pygments_lexer": "ipython3",
   "version": "3.12.0"
  }
 },
 "nbformat": 4,
 "nbformat_minor": 4
}
